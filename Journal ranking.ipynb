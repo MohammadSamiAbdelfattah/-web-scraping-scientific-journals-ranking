{
 "cells": [
  {
   "cell_type": "markdown",
   "id": "5311cc85-3c2f-4362-9f14-d80facef14eb",
   "metadata": {},
   "source": [
    "<h1 style=\"text-align: center; padding: 20px; border:2px solid gray;\">\n",
    "Journal Ranking web scraping\n",
    "</h1>"
   ]
  },
  {
   "cell_type": "markdown",
   "id": "5a113e7c-5b98-4cd9-8249-89b031d30847",
   "metadata": {},
   "source": [
    "### 1- Instllation"
   ]
  },
  {
   "cell_type": "code",
   "execution_count": null,
   "id": "a52d78b1-eed2-4c27-b532-556ab4fcc6be",
   "metadata": {
    "jp-MarkdownHeadingCollapsed": true,
    "tags": []
   },
   "outputs": [],
   "source": [
    "pip install selenium"
   ]
  },
  {
   "cell_type": "code",
   "execution_count": null,
   "id": "e22f5a25-2962-423d-9fd7-05d2ae3ecd41",
   "metadata": {},
   "outputs": [],
   "source": [
    "pip install webdriver-manager"
   ]
  },
  {
   "cell_type": "markdown",
   "id": "705f9172",
   "metadata": {},
   "source": [
    "### 2- Import pakages"
   ]
  },
  {
   "cell_type": "code",
   "execution_count": 1,
   "id": "b119ca3d",
   "metadata": {},
   "outputs": [],
   "source": [
    "import pandas as pd\n",
    "import time\n",
    "from selenium import webdriver\n",
    "from webdriver_manager.chrome import ChromeDriverManager\n",
    "from selenium.webdriver.common.by import By\n",
    "from selenium.webdriver.chrome.service import Service"
   ]
  },
  {
   "cell_type": "markdown",
   "id": "1b026214",
   "metadata": {},
   "source": [
    "### 3- Create driver"
   ]
  },
  {
   "cell_type": "code",
   "execution_count": 11,
   "id": "23b3e035",
   "metadata": {
    "tags": []
   },
   "outputs": [],
   "source": [
    "driver = webdriver.Chrome(service=Service(ChromeDriverManager().install()))"
   ]
  },
  {
   "cell_type": "markdown",
   "id": "82513cf6",
   "metadata": {},
   "source": [
    "### 4- Page url to be scrapped"
   ]
  },
  {
   "cell_type": "code",
   "execution_count": 12,
   "id": "b396ce46",
   "metadata": {},
   "outputs": [],
   "source": [
    "url = \"https://www.scimagojr.com/journalrank.php?page=1&total_size=27339\"\n",
    "driver.get(url)\n",
    "time.sleep(1)\n",
    "driver.maximize_window()"
   ]
  },
  {
   "cell_type": "markdown",
   "id": "7368adf6",
   "metadata": {},
   "source": [
    "### 5- Get Data From Journal Table  "
   ]
  },
  {
   "cell_type": "code",
   "execution_count": 13,
   "id": "21030f6f",
   "metadata": {
    "tags": []
   },
   "outputs": [],
   "source": [
    "title = []\n",
    "index = []\n",
    "docs = []\n",
    "refs = []\n",
    "cites = []\n",
    "\n",
    "for i in range (6):\n",
    "    journals = driver.find_elements(By.XPATH, \"/html/body/div[7]/div[7]/table/tbody/tr\")\n",
    "    for journal in journals:\n",
    "        title.append(journal.find_element(By.XPATH, './td[2]').text)\n",
    "        index.append(journal.find_element(By.XPATH, \"./td[5]\").text)\n",
    "        docs.append(journal.find_element(By.XPATH, \"./td[7]\").text)\n",
    "        refs.append(journal.find_element(By.XPATH, \"./td[8]\").text)\n",
    "        cites.append(journal.find_element(By.XPATH, \"./td[9]\").text)\n",
    "        \n",
    "    next_page = driver.find_element(By.XPATH, \"/html/body/div[7]/div[9]/div/div/a[2]\")\n",
    "    next_page.click()\n",
    "\n",
    "    \n",
    "driver.quit()\n",
    "\n",
    "journals = {\n",
    "    \"title\": title,\n",
    "    \"index\": index,\n",
    "    \"docs\": docs,\n",
    "    \"refs\": refs,\n",
    "    \"cites\": cites,\n",
    "}"
   ]
  },
  {
   "cell_type": "markdown",
   "id": "ba0e9d3b",
   "metadata": {},
   "source": [
    "### 7- Create Journals dataframe"
   ]
  },
  {
   "cell_type": "code",
   "execution_count": 14,
   "id": "09b7f545",
   "metadata": {},
   "outputs": [],
   "source": [
    "df = pd.DataFrame(journals)"
   ]
  },
  {
   "cell_type": "code",
   "execution_count": 15,
   "id": "3e626806",
   "metadata": {
    "tags": []
   },
   "outputs": [
    {
     "data": {
      "text/html": [
       "<div>\n",
       "<style scoped>\n",
       "    .dataframe tbody tr th:only-of-type {\n",
       "        vertical-align: middle;\n",
       "    }\n",
       "\n",
       "    .dataframe tbody tr th {\n",
       "        vertical-align: top;\n",
       "    }\n",
       "\n",
       "    .dataframe thead th {\n",
       "        text-align: right;\n",
       "    }\n",
       "</style>\n",
       "<table border=\"1\" class=\"dataframe\">\n",
       "  <thead>\n",
       "    <tr style=\"text-align: right;\">\n",
       "      <th></th>\n",
       "      <th>title</th>\n",
       "      <th>index</th>\n",
       "      <th>docs</th>\n",
       "      <th>refs</th>\n",
       "      <th>cites</th>\n",
       "    </tr>\n",
       "  </thead>\n",
       "  <tbody>\n",
       "    <tr>\n",
       "      <th>0</th>\n",
       "      <td>Ca-A Cancer Journal for Clinicians</td>\n",
       "      <td>182</td>\n",
       "      <td>121</td>\n",
       "      <td>4006</td>\n",
       "      <td>17959</td>\n",
       "    </tr>\n",
       "    <tr>\n",
       "      <th>1</th>\n",
       "      <td>Nature Reviews Molecular Cell Biology</td>\n",
       "      <td>452</td>\n",
       "      <td>338</td>\n",
       "      <td>9025</td>\n",
       "      <td>13797</td>\n",
       "    </tr>\n",
       "    <tr>\n",
       "      <th>2</th>\n",
       "      <td>Quarterly Journal of Economics</td>\n",
       "      <td>272</td>\n",
       "      <td>111</td>\n",
       "      <td>3406</td>\n",
       "      <td>2241</td>\n",
       "    </tr>\n",
       "    <tr>\n",
       "      <th>3</th>\n",
       "      <td>Cell</td>\n",
       "      <td>814</td>\n",
       "      <td>1727</td>\n",
       "      <td>33658</td>\n",
       "      <td>73240</td>\n",
       "    </tr>\n",
       "    <tr>\n",
       "      <th>4</th>\n",
       "      <td>MMWR Recommendations and Reports</td>\n",
       "      <td>148</td>\n",
       "      <td>17</td>\n",
       "      <td>2900</td>\n",
       "      <td>663</td>\n",
       "    </tr>\n",
       "  </tbody>\n",
       "</table>\n",
       "</div>"
      ],
      "text/plain": [
       "                                   title index  docs   refs  cites\n",
       "0     Ca-A Cancer Journal for Clinicians   182   121   4006  17959\n",
       "1  Nature Reviews Molecular Cell Biology   452   338   9025  13797\n",
       "2         Quarterly Journal of Economics   272   111   3406   2241\n",
       "3                                   Cell   814  1727  33658  73240\n",
       "4       MMWR Recommendations and Reports   148    17   2900    663"
      ]
     },
     "execution_count": 15,
     "metadata": {},
     "output_type": "execute_result"
    }
   ],
   "source": [
    "df.head()"
   ]
  },
  {
   "cell_type": "code",
   "execution_count": 17,
   "id": "54104951-e5b7-4bdf-8685-94ce7e1c9853",
   "metadata": {},
   "outputs": [
    {
     "data": {
      "text/plain": [
       "(300, 5)"
      ]
     },
     "execution_count": 17,
     "metadata": {},
     "output_type": "execute_result"
    }
   ],
   "source": [
    "df.shape"
   ]
  },
  {
   "cell_type": "code",
   "execution_count": 18,
   "id": "3393ce51-5a2f-43e0-9513-455b5f25437c",
   "metadata": {},
   "outputs": [],
   "source": [
    "df.to_csv(\"Journal_Ranking.csv\")"
   ]
  }
 ],
 "metadata": {
  "kernelspec": {
   "display_name": "Python 3 (ipykernel)",
   "language": "python",
   "name": "python3"
  },
  "language_info": {
   "codemirror_mode": {
    "name": "ipython",
    "version": 3
   },
   "file_extension": ".py",
   "mimetype": "text/x-python",
   "name": "python",
   "nbconvert_exporter": "python",
   "pygments_lexer": "ipython3",
   "version": "3.9.12"
  }
 },
 "nbformat": 4,
 "nbformat_minor": 5
}
